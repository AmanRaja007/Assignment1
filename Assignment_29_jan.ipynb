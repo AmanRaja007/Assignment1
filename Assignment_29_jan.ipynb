{
 "cells": [
  {
   "cell_type": "code",
   "execution_count": null,
   "id": "e37ef238-bba7-4805-8e68-906f68e97366",
   "metadata": {},
   "outputs": [],
   "source": [
    "Question 1.\n",
    "who developed python programming language ?"
   ]
  },
  {
   "cell_type": "code",
   "execution_count": null,
   "id": "2dd58ed3-41db-41ed-94e9-68951c090439",
   "metadata": {},
   "outputs": [],
   "source": [
    "Answer:\n",
    "Guido von rossum developed python programing language and first released in 1991 \n",
    "Python 0.90"
   ]
  },
  {
   "cell_type": "code",
   "execution_count": null,
   "id": "8cc4faa1-5e06-41a6-af4d-591fae92634c",
   "metadata": {},
   "outputs": [],
   "source": [
    "Question 2. \n",
    "Which type of programming does python support ?\n",
    "Answer:\n",
    "python is an interpreted programming language support structured,\n",
    "object-oreinted and functional programming"
   ]
  },
  {
   "cell_type": "code",
   "execution_count": null,
   "id": "bc463bfa-bb05-4d14-82d9-40f26780a5ad",
   "metadata": {},
   "outputs": [],
   "source": [
    "Question 3.\n",
    "In python case sensitive when dealing with identifiers?\n",
    "Answer.\n",
    "Yes, python is case sensitive languge i.e. it treats lowercase and uppercases \n",
    "differently means (A is not same as the a) in python."
   ]
  },
  {
   "cell_type": "code",
   "execution_count": null,
   "id": "3b154d5b-2f88-46a1-80dd-9bb0e5ae937e",
   "metadata": {},
   "outputs": [],
   "source": [
    "Question 4.\n",
    "What is the correct extension of the python file?\n",
    "Answer.\n",
    ".py is the correct extension of the python file.It contain the Python Source code.\n"
   ]
  },
  {
   "cell_type": "code",
   "execution_count": null,
   "id": "43faf061-f664-46c6-938b-c5442a2b112b",
   "metadata": {},
   "outputs": [],
   "source": [
    "Question 5.\n",
    "is python code compiled or interpreted?\n",
    "Answer. \n",
    "Python is both compiled as well as interpreted language. This means when we run a python\n",
    "code it is first compiled and then interpreted line by line.The compilation part is mostly \n",
    "hidden from the user.While running the code, Python generates a bytecode internelly, this \n",
    "byte code is then converted using a python virtual machine (p.v.m) to generate the output."
   ]
  },
  {
   "cell_type": "code",
   "execution_count": null,
   "id": "70e5b8e8-12e1-492e-847d-5bea29744e29",
   "metadata": {},
   "outputs": [],
   "source": [
    "Question 6.\n",
    "Name a few block of code used to define in python language?\n",
    "Answer.\n",
    "In python we use identation to define a block.Identation refers to whitespaces at the \n",
    "beginning of the line."
   ]
  },
  {
   "cell_type": "code",
   "execution_count": null,
   "id": "1890910b-4d95-4f26-8f49-29f3cc225d32",
   "metadata": {},
   "outputs": [],
   "source": [
    "Question 7.\n",
    "State the character to give the single-line comments in python?\n",
    "Answer\n",
    "We use # character in python for the single-line comments."
   ]
  },
  {
   "cell_type": "code",
   "execution_count": null,
   "id": "a9355d91-02b2-4279-bd0a-5b32e841178d",
   "metadata": {},
   "outputs": [],
   "source": [
    "Question 8.\n",
    "Mention function which can help us to find  the version of python  that we are \n",
    "currently working on ?\n",
    "Answer.\n",
    "sys.version help us to find  the version of python  that we are \n",
    "currently working on."
   ]
  },
  {
   "cell_type": "code",
   "execution_count": null,
   "id": "28b75d0a-e42b-4967-b783-bf0fdecc7151",
   "metadata": {},
   "outputs": [],
   "source": [
    "Question 9.\n",
    "Python support the creation of anonymous function at run-time using, a construct called\n",
    "---------?\n",
    "Answer.\n",
    "Lamda function is a small anonymous function. A lamda function can take any number of \n",
    "arguments but can only have one expression\n",
    "Syntax:\n",
    "lamda arguments : expression"
   ]
  },
  {
   "cell_type": "code",
   "execution_count": null,
   "id": "8e5abb0c-8f05-4a83-92bd-dcbcd7c3f611",
   "metadata": {},
   "outputs": [],
   "source": [
    "Question 10.\n",
    "What does pip stand for python ?\n",
    "Answer.\n",
    "pip stands for 'perferred installer program' used for installing the packages.\n"
   ]
  },
  {
   "cell_type": "code",
   "execution_count": null,
   "id": "e0b49523-f9ee-4c86-80ba-b8737f048e55",
   "metadata": {},
   "outputs": [],
   "source": [
    "Question 11.\n",
    "Mention a few built-in functions in python ?\n",
    "Answer.\n",
    "There are many built-in functions in python like all() returns True if all the items in an \n",
    "iretable objects are true , chr() Returns a character from the specified Unicode code. \n",
    "bool() return the boolean value of the specified object. classmethod() convert a method \n",
    "into a class method."
   ]
  },
  {
   "cell_type": "code",
   "execution_count": null,
   "id": "4e8b3dcc-d159-445a-a449-82aa45fe2d6b",
   "metadata": {},
   "outputs": [],
   "source": [
    "Question 12.\n",
    "What is  the maximum possible length of an indentifier in python?\n",
    "Answer.\n",
    "An identifier can have a maximum length of 79 characters in python."
   ]
  },
  {
   "cell_type": "code",
   "execution_count": null,
   "id": "2ec7a17f-8b31-428a-90ee-cfc23f06ecb4",
   "metadata": {},
   "outputs": [],
   "source": [
    "Question 13.\n",
    "What are the benefits of using the python ?\n",
    "Answer.\n",
    "Python is commonly used for developing websites and software task automation, data analysis,\n",
    "and data visualization. Since, it is relatively easy to learn.Pytho has been adopted for \n",
    "many non-programmers such as accountants and scientists for a varity of everyday tasks, \n",
    "like orgranising finanace."
   ]
  },
  {
   "cell_type": "code",
   "execution_count": null,
   "id": "11adf500-be8e-47ca-938e-262a4e0911a3",
   "metadata": {},
   "outputs": [],
   "source": [
    "Question 14.\n",
    "How is memory managed in python ?\n",
    "Answer.\n",
    "Memory management in Python involves a private heap containing all Python objects and data \n",
    "structures.The management of this private heap is ensured internally by the Python memory \n",
    "manager.It is important to understand that the management of the Python heap is performed \n",
    "by the interpreter itself and that the user has no control over it, even if they regularly \n",
    "manipulate object pointers to memory blocks inside that heap. The allocation of heap space \n",
    "for Python objects and other internal buffers is performed on demand by the Python memory \n",
    "manager through the Python/C API functions listed in this document."
   ]
  },
  {
   "cell_type": "code",
   "execution_count": null,
   "id": "0159403a-54b3-4814-ae62-8f381432236b",
   "metadata": {},
   "outputs": [],
   "source": [
    "Question 15.\n",
    "How to install python on windows and set path variables?\n",
    "Answer.\n",
    "The complete path of python.exe can be added by:\n",
    "(i)Right-clicking This PC and going to Properties.\n",
    "(ii)Clicking on the Advanced system settings in the menu on the left.\n",
    "(iii)Clicking on the Environment Variables button on the bottom right.\n",
    "(iv)In the System variables section, selecting the Path variable and clicking on Edit. \n",
    "The next screen will show all the directories that are currently a part of the PATH \n",
    "variable.\n",
    "(iv)Clicking on New and entering Python’s install directory.\n",
    "(v)Python can now be used directly from the command prompt without having to write its \n",
    "location. Try executing the command python --version; it will output the version of Python \n",
    "installed on your system.\n"
   ]
  },
  {
   "cell_type": "code",
   "execution_count": null,
   "id": "6cd8b51e-cb9b-41f3-93ce-c83a2cebc962",
   "metadata": {},
   "outputs": [],
   "source": [
    "Question 16.\n",
    "is identation required in python ?\n",
    "Answer.\n",
    "Indentation refers to the spaces at the beginning of a code line. Where in other \n",
    "programming languages the indentation in code is for readability only, the indentation \n",
    "in Python is very important. Python uses indentation to indicate a block of code."
   ]
  }
 ],
 "metadata": {
  "kernelspec": {
   "display_name": "Python 3 (ipykernel)",
   "language": "python",
   "name": "python3"
  },
  "language_info": {
   "codemirror_mode": {
    "name": "ipython",
    "version": 3
   },
   "file_extension": ".py",
   "mimetype": "text/x-python",
   "name": "python",
   "nbconvert_exporter": "python",
   "pygments_lexer": "ipython3",
   "version": "3.10.8"
  }
 },
 "nbformat": 4,
 "nbformat_minor": 5
}
